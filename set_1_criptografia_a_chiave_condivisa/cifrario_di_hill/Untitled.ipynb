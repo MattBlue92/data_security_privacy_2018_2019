{
 "cells": [
  {
   "cell_type": "code",
   "execution_count": 100,
   "metadata": {},
   "outputs": [],
   "source": [
    "import matplotlib.pyplot as plt\n",
    "import collections\n",
    "import numpy as np\n",
    "from numpy.linalg import inv\n",
    "import warnings\n",
    "import random\n",
    "import math\n",
    "from path import Path\n",
    "warnings.simplefilter(\"ignore\")\n",
    "%matplotlib inline"
   ]
  },
  {
   "cell_type": "code",
   "execution_count": 2,
   "metadata": {},
   "outputs": [],
   "source": [
    "def textPure(textNP):\n",
    "    \"\"\"Data una stringa, textPure ritorna una stringa priva disimboli jolly (,.;'(,)', # ecc..)\n",
    "         e con tutti i caratteri in minuscolo\"\"\"\n",
    "    for i in range(32,47):\n",
    "        if(textNP.find(chr(i))>=0):\n",
    "            textNP = textNP.replace(chr(i),\"\")\n",
    "    if(textNP.find(\"\\n\")>=0):\n",
    "        textNP = textNP.replace(\"\\n\",\"\")\n",
    "    textNP= textNP.lower()\n",
    "    return textNP"
   ]
  },
  {
   "cell_type": "raw",
   "metadata": {},
   "source": [
    "dirPath = Path().getcwd()\n",
    "filePath = dirPath/\"teardrop.txt\"\n",
    "file = open(filePath)\n",
    "text = file.read()\n",
    "file.close()\n",
    "print(text)\n",
    "textP = textPure(text)\n",
    "textP"
   ]
  },
  {
   "cell_type": "code",
   "execution_count": 85,
   "metadata": {},
   "outputs": [],
   "source": [
    "def getArray(subString):\n",
    "    array = []\n",
    "    for i in range(len(subString)):\n",
    "        array.append(ord(subString[i])-ord(\"a\"))\n",
    "    array = np.array(array)\n",
    "    return array"
   ]
  },
  {
   "cell_type": "code",
   "execution_count": 6,
   "metadata": {},
   "outputs": [
    {
     "data": {
      "text/plain": [
       "65"
      ]
     },
     "execution_count": 6,
     "metadata": {},
     "output_type": "execute_result"
    }
   ],
   "source": [
    "ord(\"A\")"
   ]
  },
  {
   "cell_type": "code",
   "execution_count": null,
   "metadata": {},
   "outputs": [],
   "source": []
  },
  {
   "cell_type": "code",
   "execution_count": 32,
   "metadata": {},
   "outputs": [],
   "source": [
    "a = getArray(textP[0:3])"
   ]
  },
  {
   "cell_type": "code",
   "execution_count": 33,
   "metadata": {},
   "outputs": [
    {
     "data": {
      "text/plain": [
       "array([108, 111, 118])"
      ]
     },
     "execution_count": 33,
     "metadata": {},
     "output_type": "execute_result"
    }
   ],
   "source": []
  },
  {
   "cell_type": "code",
   "execution_count": 49,
   "metadata": {},
   "outputs": [
    {
     "data": {
      "text/plain": [
       "matrix([[108, 111, 118],\n",
       "        [101, 108, 111],\n",
       "        [118, 101, 105],\n",
       "        [115,  97, 118],\n",
       "        [101, 114,  98]])"
      ]
     },
     "execution_count": 49,
     "metadata": {},
     "output_type": "execute_result"
    }
   ],
   "source": [
    "array = []\n",
    "for i in range(0,15,3):\n",
    "    array.append(getArray(textP[i:i+3]))\n",
    "    #print(textP[i:i+3])\n",
    "    \n",
    "np.matrix(array)"
   ]
  },
  {
   "cell_type": "code",
   "execution_count": 87,
   "metadata": {},
   "outputs": [],
   "source": [
    "def buildMatrix(text,m):\n",
    "    array = []\n",
    "    for i in range(0,len(text)-m,m):\n",
    "        array.append(getArray(text[i:i+m]))\n",
    "    return np.matrix(array).T"
   ]
  },
  {
   "cell_type": "code",
   "execution_count": 77,
   "metadata": {},
   "outputs": [],
   "source": [
    "plaintext = \"friday\"\n",
    "cipertext = \"pqcfku\"\n",
    "#t = chr(5+ord(\"a\"))"
   ]
  },
  {
   "cell_type": "code",
   "execution_count": 54,
   "metadata": {},
   "outputs": [
    {
     "data": {
      "text/plain": [
       "'f'"
      ]
     },
     "execution_count": 54,
     "metadata": {},
     "output_type": "execute_result"
    }
   ],
   "source": [
    "t"
   ]
  },
  {
   "cell_type": "code",
   "execution_count": 61,
   "metadata": {},
   "outputs": [],
   "source": [
    "t=ord(\"r\")-ord(\"a\")"
   ]
  },
  {
   "cell_type": "code",
   "execution_count": 62,
   "metadata": {},
   "outputs": [
    {
     "data": {
      "text/plain": [
       "17"
      ]
     },
     "execution_count": 62,
     "metadata": {},
     "output_type": "execute_result"
    }
   ],
   "source": [
    "t"
   ]
  },
  {
   "cell_type": "code",
   "execution_count": 65,
   "metadata": {},
   "outputs": [
    {
     "name": "stdout",
     "output_type": "stream",
     "text": [
      "5\n",
      "17\n",
      "8\n",
      "3\n",
      "0\n",
      "24\n"
     ]
    },
    {
     "data": {
      "text/plain": [
       "array([ 5, 17,  8,  3,  0, 24])"
      ]
     },
     "execution_count": 65,
     "metadata": {},
     "output_type": "execute_result"
    }
   ],
   "source": [
    "getArray(textP)"
   ]
  },
  {
   "cell_type": "code",
   "execution_count": 90,
   "metadata": {},
   "outputs": [],
   "source": [
    "P = buildMatrix(plaintext,2)"
   ]
  },
  {
   "cell_type": "code",
   "execution_count": 189,
   "metadata": {},
   "outputs": [
    {
     "data": {
      "text/plain": [
       "matrix([[ 5,  8],\n",
       "        [17,  3]])"
      ]
     },
     "execution_count": 189,
     "metadata": {},
     "output_type": "execute_result"
    }
   ],
   "source": [
    "P"
   ]
  },
  {
   "cell_type": "code",
   "execution_count": 91,
   "metadata": {},
   "outputs": [],
   "source": [
    "C =buildMatrix(cipertext,2)"
   ]
  },
  {
   "cell_type": "code",
   "execution_count": 96,
   "metadata": {},
   "outputs": [],
   "source": [
    "detP = round(np.linalg.det(P))%26"
   ]
  },
  {
   "cell_type": "code",
   "execution_count": 97,
   "metadata": {},
   "outputs": [
    {
     "data": {
      "text/plain": [
       "9.0"
      ]
     },
     "execution_count": 97,
     "metadata": {},
     "output_type": "execute_result"
    }
   ],
   "source": [
    "detP"
   ]
  },
  {
   "cell_type": "code",
   "execution_count": 99,
   "metadata": {},
   "outputs": [
    {
     "data": {
      "text/plain": [
       "1"
      ]
     },
     "execution_count": 99,
     "metadata": {},
     "output_type": "execute_result"
    }
   ],
   "source": [
    "math.gcd(int(detP), 26)"
   ]
  },
  {
   "cell_type": "code",
   "execution_count": 197,
   "metadata": {},
   "outputs": [
    {
     "data": {
      "text/plain": [
       "matrix([[-0.07438017,  0.19834711],\n",
       "        [ 0.4214876 , -0.12396694]])"
      ]
     },
     "execution_count": 197,
     "metadata": {},
     "output_type": "execute_result"
    }
   ],
   "source": [
    "#invP = inv(P)*detP\n",
    "#invP = inv(P)\n",
    "inv(P)*modInverse(detP, 26)"
   ]
  },
  {
   "cell_type": "code",
   "execution_count": 175,
   "metadata": {},
   "outputs": [],
   "source": [
    "invDetP= math.pow(detP,-1)"
   ]
  },
  {
   "cell_type": "code",
   "execution_count": 180,
   "metadata": {},
   "outputs": [
    {
     "data": {
      "text/plain": [
       "9.0"
      ]
     },
     "execution_count": 180,
     "metadata": {},
     "output_type": "execute_result"
    }
   ],
   "source": [
    "pow(invDetP%26,-1)"
   ]
  },
  {
   "cell_type": "code",
   "execution_count": 161,
   "metadata": {},
   "outputs": [],
   "source": [
    "C = np.matrix(np.copy(P))"
   ]
  },
  {
   "cell_type": "code",
   "execution_count": 181,
   "metadata": {},
   "outputs": [],
   "source": [
    "def modInverse(a, m) : \n",
    "    a = a % m; \n",
    "    for x in range(1, m) : \n",
    "        if ((a * x) % m == 1) : \n",
    "            return x \n",
    "    return 1"
   ]
  },
  {
   "cell_type": "code",
   "execution_count": 201,
   "metadata": {},
   "outputs": [
    {
     "data": {
      "text/plain": [
       "3"
      ]
     },
     "execution_count": 201,
     "metadata": {},
     "output_type": "execute_result"
    }
   ],
   "source": [
    "modInverse(9, 26)"
   ]
  },
  {
   "cell_type": "code",
   "execution_count": 188,
   "metadata": {},
   "outputs": [
    {
     "data": {
      "text/plain": [
       "0.1111111111111111"
      ]
     },
     "execution_count": 188,
     "metadata": {},
     "output_type": "execute_result"
    }
   ],
   "source": [
    "M"
   ]
  },
  {
   "cell_type": "code",
   "execution_count": 212,
   "metadata": {},
   "outputs": [],
   "source": [
    "m = np.matrix([[5, 8], [17, 3]])\n",
    "invP = inv(m)*round(np.linalg.det(P))*modInverse(round(np.linalg.det(P)), 26)"
   ]
  },
  {
   "cell_type": "code",
   "execution_count": 219,
   "metadata": {},
   "outputs": [
    {
     "data": {
      "text/plain": [
       "matrix([[ 9.,  2.],\n",
       "        [ 1., 15.]])"
      ]
     },
     "execution_count": 219,
     "metadata": {},
     "output_type": "execute_result"
    }
   ],
   "source": [
    "for i in range(len(invP)):\n",
    "    for j in range(len(invP)):\n",
    "        invP[i,j] = invP[i,j]%26\n",
    "invP"
   ]
  },
  {
   "cell_type": "code",
   "execution_count": 228,
   "metadata": {},
   "outputs": [
    {
     "data": {
      "text/plain": [
       "'hitd'"
      ]
     },
     "execution_count": 228,
     "metadata": {},
     "output_type": "execute_result"
    }
   ],
   "source": [
    "plaintext = \"friday\"\n",
    "cipertext = \"pqcfku\"\n",
    "P = buildMatrix(plaintext,2)\n",
    "C = buildMatrix(cipertext,2)\n",
    "invP = inv(P)*int(np.linalg.det(P))*modInverse(int(np.linalg.det(P)), 26)\n",
    "for i in range(len(invP)):\n",
    "    for j in range(len(invP)):\n",
    "        invP[i,j] = invP[i,j]%26\n",
    "K =C*invP\n",
    "key =''\n",
    "for i in range(len(invP)):\n",
    "    for j in range(len(invP)):\n",
    "        K[i,j] = K[i,j]%26\n",
    "        key+=chr(int(K[i,j])+ord(\"a\"))\n",
    "K\n",
    "key"
   ]
  },
  {
   "cell_type": "code",
   "execution_count": null,
   "metadata": {},
   "outputs": [],
   "source": [
    "def deciphering(plaintext, cipertext, m)\n",
    "    P = buildMatrix(plaintext,m)\n",
    "    C = buildMatrix(cipertext,m)\n",
    "    if(math.gcd(int(detP), 26)==1):\n",
    "        invP = inv(m)*round(np.linalg.det(P))*modInverse(round(np.linalg.det(P)), 26)\n",
    "        for i in range(len(invP)):\n",
    "            for j in range(len(invP)):\n",
    "                invP[i,j] = invP[i,j]%26\n",
    "\n",
    "        K = C*invP\n",
    "        key =''\n",
    "        for i in range(len(invP)):\n",
    "            for j in range(len(invP)):\n",
    "                K[i,j] = K[i,j]%26\n",
    "                key+=chr(int(K[i,j])+ord(\"a\"))\n",
    "    else:\n",
    "        print(\"Impossibile costruire la matrice inversa P*\")\n",
    "    \n"
   ]
  },
  {
   "cell_type": "code",
   "execution_count": 224,
   "metadata": {},
   "outputs": [
    {
     "data": {
      "text/plain": [
       "'ci'"
      ]
     },
     "execution_count": 224,
     "metadata": {},
     "output_type": "execute_result"
    }
   ],
   "source": [
    "key ='c'\n",
    "key+='i'\n",
    "key"
   ]
  },
  {
   "cell_type": "code",
   "execution_count": null,
   "metadata": {},
   "outputs": [],
   "source": []
  }
 ],
 "metadata": {
  "kernelspec": {
   "display_name": "Python 3",
   "language": "python",
   "name": "python3"
  },
  "language_info": {
   "codemirror_mode": {
    "name": "ipython",
    "version": 3
   },
   "file_extension": ".py",
   "mimetype": "text/x-python",
   "name": "python",
   "nbconvert_exporter": "python",
   "pygments_lexer": "ipython3",
   "version": "3.7.1"
  }
 },
 "nbformat": 4,
 "nbformat_minor": 2
}
