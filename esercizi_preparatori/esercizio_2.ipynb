{
 "cells": [
  {
   "cell_type": "markdown",
   "metadata": {},
   "source": [
    "# Esercizio 2"
   ]
  },
  {
   "cell_type": "markdown",
   "metadata": {},
   "source": [
    "Programmare una funzione Python che, dato un testo, ne calcoli l'indice di coincidenza. "
   ]
  },
  {
   "cell_type": "code",
   "execution_count": 1,
   "metadata": {},
   "outputs": [],
   "source": [
    "import matplotlib.pyplot as plt\n",
    "import warnings\n",
    "import random\n",
    "import math\n",
    "from path import Path\n",
    "warnings.simplefilter(\"ignore\")\n",
    "%matplotlib inline"
   ]
  },
  {
   "cell_type": "code",
   "execution_count": 2,
   "metadata": {},
   "outputs": [],
   "source": [
    "def textPure(textNP):\n",
    "    \"\"\"Data una stringa, textPure ritorna una stringa priva disimboli jolly (,.;'(,)', # ecc..)\n",
    "         e con tutti i caratteri in minuscolo\"\"\"\n",
    "    for i in range(32,47):\n",
    "        if(textNP.find(chr(i))>=0):\n",
    "            textNP = textNP.replace(chr(i),\"\")\n",
    "    if(textNP.find(\"\\n\")>=0):\n",
    "        textNP = textNP.replace(\"\\n\",\"\")\n",
    "    textNP= textNP.lower()\n",
    "    return textNP\n",
    "        "
   ]
  },
  {
   "cell_type": "code",
   "execution_count": 3,
   "metadata": {},
   "outputs": [],
   "source": [
    "def collectionX(textP):\n",
    "    \"\"\"Data una stringa pura, collectionX ritorna il vettore di elementi per cui esiste una o più occorrenza\n",
    "    e il numero totale di caratteri presenti in nella stringa\"\"\"\n",
    "    ele = []\n",
    "    for i in range(0,len(textP)):\n",
    "        ele.append(textP[i])\n",
    "    n = len(ele)\n",
    "    X = {x:ele.count(x) for x in ele if ele.count(x)>1}\n",
    "    return X,n"
   ]
  },
  {
   "cell_type": "code",
   "execution_count": 4,
   "metadata": {},
   "outputs": [],
   "source": [
    "def coincIndex(textP):\n",
    "    \"\"\"Data una stringa pura, coincIndex calcola l'indice di coincidenza della stringa\"\"\"\n",
    "    indexC = 0\n",
    "    X, n = collectionX(textP)\n",
    "    for k,f_i in X.items():\n",
    "        indexC += (f_i/n)*(f_i-1)/(n-1)                            \n",
    "    return indexC"
   ]
  },
  {
   "cell_type": "code",
   "execution_count": 5,
   "metadata": {},
   "outputs": [
    {
     "name": "stdout",
     "output_type": "stream",
     "text": [
      "Love, love is a verb\n",
      "Love is a doing word\n",
      "Fearless on my breath\n",
      "Gentle impulsion\n",
      "Shakes me, makes me lighter\n",
      "Fearless on my breath\n",
      "Teardrop on the fire\n",
      "Fearless on my breath\n",
      "Night, night of matter\n",
      "Black flowers blossom\n",
      "Fearless on my breath\n",
      "Black flowers blossom\n",
      "Fearless on my breath\n",
      "Teardrop on the fire\n",
      "Fearless on my\n",
      "Water is my eye\n",
      "Most faithful mirror\n",
      "Fearless on my breath\n",
      "Teardrop on the fire\n",
      "Of a confession\n",
      "Fearless on my breath\n",
      "Most faithful mirror\n",
      "Fearless on my breath\n",
      "Teardrop on the fire\n",
      "Fearless on my breath\n",
      "It's tumbling down (as in love falling apart) \n",
      "It's tumbling down (as in love falling apart)\n",
      "loveloveisaverbloveisadoingwordfearlessonmybreathgentleimpulsionshakesmemakesmelighterfearlessonmybreathteardroponthefirefearlessonmybreathnightnightofmatterblackflowersblossomfearlessonmybreathblackflowersblossomfearlessonmybreathteardroponthefirefearlessonmywaterismyeyemostfaithfulmirrorfearlessonmybreathteardroponthefireofaconfessionfearlessonmybreathmostfaithfulmirrorfearlessonmybreathteardroponthefirefearlessonmybreathitstumblingdownasinlovefallingapartitstumblingdownasinlovefallingapart\n"
     ]
    },
    {
     "data": {
      "text/plain": [
       "0.06703121957551762"
      ]
     },
     "execution_count": 5,
     "metadata": {},
     "output_type": "execute_result"
    }
   ],
   "source": [
    "dirPath = Path().getcwd()\n",
    "filePath = dirPath/\"teardrop.txt\"\n",
    "file = open(filePath)\n",
    "text = file.read()\n",
    "file.close()\n",
    "print(text)\n",
    "textP = textPure(text)\n",
    "print(textP)\n",
    "coincIndex(textP)"
   ]
  }
 ],
 "metadata": {
  "kernelspec": {
   "display_name": "Python 3",
   "language": "python",
   "name": "python3"
  },
  "language_info": {
   "codemirror_mode": {
    "name": "ipython",
    "version": 3
   },
   "file_extension": ".py",
   "mimetype": "text/x-python",
   "name": "python",
   "nbconvert_exporter": "python",
   "pygments_lexer": "ipython3",
   "version": "3.7.1"
  }
 },
 "nbformat": 4,
 "nbformat_minor": 2
}
