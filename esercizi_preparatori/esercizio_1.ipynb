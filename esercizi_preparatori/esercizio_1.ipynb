{
 "cells": [
  {
   "cell_type": "markdown",
   "metadata": {},
   "source": [
    "# Esercizio 1"
   ]
  },
  {
   "cell_type": "markdown",
   "metadata": {},
   "source": [
    ">Programmare una funzione Python che, dato un testo, calcoli la frequenza dei q-grammi, dove q=1,2,... viene specificato dall'utente. Viene anche prodotto un istogramma delle frequenze, limitato ai soli q-grammi piu' frequenti (es. f >1)."
   ]
  },
  {
   "cell_type": "code",
   "execution_count": 1,
   "metadata": {},
   "outputs": [],
   "source": [
    "import matplotlib.pyplot as plt\n",
    "import warnings\n",
    "import random\n",
    "import math\n",
    "from path import Path\n",
    "warnings.simplefilter(\"ignore\")\n",
    "%matplotlib inline"
   ]
  },
  {
   "cell_type": "code",
   "execution_count": 2,
   "metadata": {},
   "outputs": [],
   "source": [
    "def textPure(textNP):\n",
    "    \"\"\"Data una stringa, textPure ritorna una stringa priva disimboli jolly (,.;'(,)', # ecc..)\n",
    "         e con tutti i caratteri in minuscolo\"\"\"\n",
    "    for i in range(32,47):\n",
    "        if(textNP.find(chr(i))>=0):\n",
    "            textNP = textNP.replace(chr(i),\"\")\n",
    "    if(textNP.find(\"\\n\")>=0):\n",
    "        textNP = textNP.replace(\"\\n\",\"\")\n",
    "    textNP= textNP.lower()\n",
    "    return textNP\n",
    "        "
   ]
  },
  {
   "cell_type": "code",
   "execution_count": 3,
   "metadata": {},
   "outputs": [],
   "source": [
    "def qgramma(textP, q, f=1):\n",
    "    \"\"\"Data una stringa pura e due interi positivi q e f.\n",
    "    qgramma ritorna i q-grammi che superano il valore di frequenza minima f e disegna\n",
    "    un bar-plot dei q-grammi restituiti\"\"\"\n",
    "    qGramma = {}\n",
    "    for i in range(0,len(textP)-(q-1)):\n",
    "        if((textP[i:i+q] not in qGramma)&(textP.count(textP[i:i+q])>f)):\n",
    "            qGramma[textP[i:i+q]] = textP.count(textP[i:i+q])\n",
    "    plt.bar(list(qGramma.keys()), list(qGramma.values()))\n",
    "    plt.xlabel('q-gramma', fontsize=5)\n",
    "    plt.ylabel('frequenze assolute', fontsize=5)\n",
    "    return qGramma"
   ]
  },
  {
   "cell_type": "code",
   "execution_count": 4,
   "metadata": {},
   "outputs": [
    {
     "name": "stdout",
     "output_type": "stream",
     "text": [
      "Love, love is a verb\n",
      "Love is a doing word\n",
      "Fearless on my breath\n",
      "Gentle impulsion\n",
      "Shakes me, makes me lighter\n",
      "Fearless on my breath\n",
      "Teardrop on the fire\n",
      "Fearless on my breath\n",
      "Night, night of matter\n",
      "Black flowers blossom\n",
      "Fearless on my breath\n",
      "Black flowers blossom\n",
      "Fearless on my breath\n",
      "Teardrop on the fire\n",
      "Fearless on my\n",
      "Water is my eye\n",
      "Most faithful mirror\n",
      "Fearless on my breath\n",
      "Teardrop on the fire\n",
      "Of a confession\n",
      "Fearless on my breath\n",
      "Most faithful mirror\n",
      "Fearless on my breath\n",
      "Teardrop on the fire\n",
      "Fearless on my breath\n",
      "It's tumbling down (as in love falling apart) \n",
      "It's tumbling down (as in love falling apart)\n",
      "loveloveisaverbloveisadoingwordfearlessonmybreathgentleimpulsionshakesmemakesmelighterfearlessonmybreathteardroponthefirefearlessonmybreathnightnightofmatterblackflowersblossomfearlessonmybreathblackflowersblossomfearlessonmybreathteardroponthefirefearlessonmywaterismyeyemostfaithfulmirrorfearlessonmybreathteardroponthefireofaconfessionfearlessonmybreathmostfaithfulmirrorfearlessonmybreathteardroponthefirefearlessonmybreathitstumblingdownasinlovefallingapartitstumblingdownasinlovefallingapart\n"
     ]
    },
    {
     "data": {
      "text/plain": [
       "{'fe': 11,\n",
       " 'ea': 23,\n",
       " 'ar': 16,\n",
       " 'le': 11,\n",
       " 'es': 13,\n",
       " 'ss': 13,\n",
       " 'so': 12,\n",
       " 'on': 17,\n",
       " 'my': 11,\n",
       " 're': 13,\n",
       " 'at': 11,\n",
       " 'th': 15}"
      ]
     },
     "execution_count": 4,
     "metadata": {},
     "output_type": "execute_result"
    },
    {
     "data": {
      "image/png": "[encoded data removed]",
      "text/plain": [
       "<Figure size 432x288 with 1 Axes>"
      ]
     },
     "metadata": {
      "needs_background": "light"
     },
     "output_type": "display_data"
    }
   ],
   "source": [
    "dirPath = Path().getcwd()\n",
    "filePath = dirPath/\"teardrop.txt\"\n",
    "file = open(filePath)\n",
    "text = file.read()\n",
    "file.close()\n",
    "print(text)\n",
    "textP = textPure(text)\n",
    "print(textP)\n",
    "qgramma(textP,2, 10)"
   ]
  },
  {
   "cell_type": "code",
   "execution_count": 5,
   "metadata": {},
   "outputs": [],
   "source": [
    "textP = textPure(text)"
   ]
  },
  {
   "cell_type": "code",
   "execution_count": null,
   "metadata": {},
   "outputs": [],
   "source": []
  }
 ],
 "metadata": {
  "kernelspec": {
   "display_name": "Python 3",
   "language": "python",
   "name": "python3"
  },
  "language_info": {
   "codemirror_mode": {
    "name": "ipython",
    "version": 3
   },
   "file_extension": ".py",
   "mimetype": "text/x-python",
   "name": "python",
   "nbconvert_exporter": "python",
   "pygments_lexer": "ipython3",
   "version": "3.7.1"
  }
 },
 "nbformat": 4,
 "nbformat_minor": 2
}
